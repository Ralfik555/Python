{
 "cells": [
  {
   "cell_type": "code",
   "execution_count": 4,
   "metadata": {},
   "outputs": [
    {
     "name": "stdout",
     "output_type": "stream",
     "text": [
      "Everything is fine\n",
      "20\n"
     ]
    }
   ],
   "source": [
    "try:\n",
    "    result = 10 + '10'\n",
    "except:\n",
    "    print('incorrecly adding')\n",
    "else:\n",
    "    print('Everything is fine')\n",
    "    print(result)"
   ]
  },
  {
   "cell_type": "code",
   "execution_count": 6,
   "metadata": {},
   "outputs": [
    {
     "name": "stdout",
     "output_type": "stream",
     "text": [
      "It is an OS error\n",
      "You cannot stop me\n"
     ]
    }
   ],
   "source": [
    "try:\n",
    "    f = open('testfile','r')\n",
    "    f.write('some text')\n",
    "except OSError:\n",
    "    print('It is an OS error')\n",
    "except:\n",
    "    print('All other exceptions')\n",
    "finally:\n",
    "    print('You cannot stop me')"
   ]
  },
  {
   "cell_type": "code",
   "execution_count": 15,
   "metadata": {},
   "outputs": [],
   "source": [
    "def ask_for_number():\n",
    "    while True:\n",
    "        \n",
    "        try:\n",
    "            result = int(input('Please choose number: '))\n",
    "        except:\n",
    "            print(\"Whoops, this isn't a number\")\n",
    "            continue\n",
    "        else:\n",
    "            print('Yes thanks')\n",
    "            break\n",
    "        finally:\n",
    "            print('End of try/except/finally')\n",
    "            \n",
    "#w tym przykładzie finally jest słabe ale jest dodane żebym wiedział do czego służy"
   ]
  },
  {
   "cell_type": "code",
   "execution_count": 16,
   "metadata": {},
   "outputs": [
    {
     "name": "stdout",
     "output_type": "stream",
     "text": [
      "Please choose number: ty\n",
      "Whoops, this isn't a number\n",
      "End of try/except/finally\n",
      "Please choose number: ri\n",
      "Whoops, this isn't a number\n",
      "End of try/except/finally\n",
      "Please choose number: 24\n",
      "Yes thanks\n",
      "End of try/except/finally\n"
     ]
    }
   ],
   "source": [
    "ask_for_number()"
   ]
  },
  {
   "cell_type": "code",
   "execution_count": null,
   "metadata": {},
   "outputs": [],
   "source": []
  }
 ],
 "metadata": {
  "kernelspec": {
   "display_name": "Python 3",
   "language": "python",
   "name": "python3"
  },
  "language_info": {
   "codemirror_mode": {
    "name": "ipython",
    "version": 3
   },
   "file_extension": ".py",
   "mimetype": "text/x-python",
   "name": "python",
   "nbconvert_exporter": "python",
   "pygments_lexer": "ipython3",
   "version": "3.6.8"
  }
 },
 "nbformat": 4,
 "nbformat_minor": 2
}
