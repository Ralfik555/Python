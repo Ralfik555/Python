{
 "cells": [
  {
   "cell_type": "code",
   "execution_count": 1,
   "metadata": {},
   "outputs": [],
   "source": [
    "class Company():\n",
    "    \n",
    "    \n",
    "    def __init__(self,name,budget):\n",
    "        self.name = name\n",
    "        self.budget = budget\n",
    "        \n",
    "        self.events = []\n",
    "        self.employees = []   \n",
    "        \n",
    "    def __str__(self):\n",
    "        return 'Witamy w {}'.format(self.name)\n",
    "    \n",
    "    def add_employee(self,emp):\n",
    "        self.n_e = 0\n",
    "        self.n_e_s = 0\n",
    "        self.emp = emp\n",
    "        self.employees.append(emp)\n",
    "        for i in self.employees:\n",
    "            if i.special == False:\n",
    "                self.n_e += 1\n",
    "            else:\n",
    "                self.n_e_s += 1\n",
    "        \n",
    "    def add_event(self,ev):\n",
    "        self.ev = ev\n",
    "        self.count = 0\n",
    "        for i in self.events:\n",
    "            if ev.name == i.name:\n",
    "                self.count += 1\n",
    "                \n",
    "         \n",
    "        if self.count == 0:          \n",
    "            self.events.append(ev)\n",
    "        else:\n",
    "            print('Cant add event with the same name')\n",
    "\n",
    "        \n",
    "    \n",
    "    def event_handler(self,check_event):\n",
    "        self.check_event = check_event\n",
    "        self.counter = 0\n",
    "        \n",
    "        for i in self.events:\n",
    "            if i.name == self.check_event:\n",
    "                self.ix = self.events.index(i)\n",
    "                if self.events[self.ix].standard_emp - self.n_e > 0 and self.events[self.ix].special_emp - self.n_e > 0:\n",
    "                    print(f'We dont have enought employee. Need standard {self.events[self.ix].standard_emp}, we have {self.n_e}  Need special {self.events[self.ix].special_emp}, we have {self.n_e_s}')\n",
    "                else:\n",
    "                    print('We can handle it')\n",
    "            else:\n",
    "                self.counter += 1\n",
    "        \n",
    "        if self.counter == len(self.events):\n",
    "            print(\"Cannot find event with this name\")"
   ]
  },
  {
   "cell_type": "code",
   "execution_count": 2,
   "metadata": {},
   "outputs": [],
   "source": [
    "class Employee():\n",
    "    \n",
    "    def __init__(self,name,surname,age = None, contact = None, special = False):\n",
    "        self.name = name\n",
    "        self.surname = surname\n",
    "        self.age = age\n",
    "        self.contact = contact\n",
    "        self.special = special\n",
    "    \n",
    "    \n",
    "    \n",
    "    def __str__(self):\n",
    "        return f'Hello, I am {self.name} {self.surname}'\n",
    "    \n",
    "    \n",
    "    def notes(self):\n",
    "        while True:\n",
    "            try:\n",
    "                self.rating = int(input('How do you rate this employee ? from 1 to 5'))\n",
    "            except:\n",
    "                print('This is not a number')\n",
    "                continue\n",
    "            else:\n",
    "                break              \n",
    "        \n",
    "        self.notes = input('Any notes about him ?')\n",
    "    \n",
    "    \n",
    "    def add_specials(self):\n",
    "                     \n",
    "        \n",
    "        while True:\n",
    "            self.woh = input('Does he can work on heights ? y / n')\n",
    "\n",
    "            if self.woh[0].lower() == 'y' or self.woh[0].lower() == 'n' :\n",
    "                break\n",
    "            else:\n",
    "                print(\"Sorry, please try again.\")\n",
    "                continue\n",
    "            \n",
    "        \n",
    "        while True:\n",
    "            self.forklifts = input('Does he have permission for forklifts ? y / n')  \n",
    "\n",
    "            if self.forklifts[0].lower() == 'y' or self.forklifts[0].lower() == 'n' :\n",
    "                break\n",
    "            else:\n",
    "                print(\"Sorry, please try again.\")\n",
    "                continue        \n",
    "                \n",
    "                \n",
    "        if self.woh == 'y' or self.forklifts == 'y':\n",
    "            self.special = True\n",
    "            \n",
    "        else: \n",
    "            pass"
   ]
  },
  {
   "cell_type": "code",
   "execution_count": 3,
   "metadata": {},
   "outputs": [],
   "source": [
    "tomek_nowak = Employee('Tomek','Nowak', contact = '567890123')"
   ]
  },
  {
   "cell_type": "code",
   "execution_count": 4,
   "metadata": {},
   "outputs": [],
   "source": [
    "adam_dudek = Employee('Adam','Dudek', 25, 'facebook')"
   ]
  },
  {
   "cell_type": "code",
   "execution_count": 5,
   "metadata": {},
   "outputs": [],
   "source": [
    "rysiek_mocny = Employee('Rysiek','Mocny', 45)"
   ]
  },
  {
   "cell_type": "code",
   "execution_count": 6,
   "metadata": {},
   "outputs": [],
   "source": [
    "rafal_kociecki = Employee('Rafal','Kociecki',28,'instagram',special = True)"
   ]
  },
  {
   "cell_type": "code",
   "execution_count": 7,
   "metadata": {},
   "outputs": [],
   "source": [
    "damian_kaczkowski = Employee('Damian','Kaczkowski',special = True)"
   ]
  },
  {
   "cell_type": "code",
   "execution_count": 8,
   "metadata": {},
   "outputs": [],
   "source": [
    "ez_events = Company('Ez Events', 10000)"
   ]
  },
  {
   "cell_type": "code",
   "execution_count": 9,
   "metadata": {},
   "outputs": [],
   "source": [
    "list_emp = [tomek_nowak,adam_dudek,rysiek_mocny,rafal_kociecki,damian_kaczkowski]"
   ]
  },
  {
   "cell_type": "code",
   "execution_count": 10,
   "metadata": {},
   "outputs": [],
   "source": [
    "for i in list_emp:\n",
    "    ez_events.add_employee(i)"
   ]
  },
  {
   "cell_type": "code",
   "execution_count": 11,
   "metadata": {},
   "outputs": [
    {
     "name": "stdout",
     "output_type": "stream",
     "text": [
      "2\n"
     ]
    }
   ],
   "source": [
    "print(ez_events.n_e_s)"
   ]
  },
  {
   "cell_type": "code",
   "execution_count": 12,
   "metadata": {},
   "outputs": [],
   "source": [
    "import datetime"
   ]
  },
  {
   "cell_type": "code",
   "execution_count": 13,
   "metadata": {},
   "outputs": [],
   "source": [
    "class Event():\n",
    "    ## albo podaja godzinowki albo dniowki\n",
    "    \n",
    "    def __init__(self,name,location,days,standard_emp,special_emp,money_set = False):\n",
    "        self.name = name\n",
    "        self.location = location\n",
    "        self.days = days\n",
    "        self.standard_emp = standard_emp\n",
    "        self.special_emp = special_emp\n",
    "        self.money_set = money_set\n",
    "        self.assigned_emp = []\n",
    "      \n",
    "        while True:\n",
    "            try:\n",
    "                print('When it starts?')\n",
    "                \n",
    "                year = int(input('Enter year'))\n",
    "                month = int(input('Enter month'))\n",
    "                day = int(input('Enter day'))\n",
    "                \n",
    "                self.start_date = datetime.date(year,month,day)\n",
    "                if self.start_date >= datetime.date.today():\n",
    "                    break\n",
    "                else:\n",
    "                    print(\"date cant be before today\")\n",
    "                    continue\n",
    "                \n",
    "            except:\n",
    "                print('wrong format, try again: year, month, day')\n",
    "                continue\n",
    "            else:\n",
    "                break\n",
    "                \n",
    "\n",
    "    def money(self):\n",
    "        \n",
    "        while True:\n",
    "            self.salary_type = input('Is salary a daily = d on hourly = h ?')\n",
    "\n",
    "            if self.salary_type.lower() == 'd' or self.salary_type.lower() == 'h' :\n",
    "                break\n",
    "            else:\n",
    "                print(\"Sorry, please try again.\")\n",
    "                continue    \n",
    "    \n",
    "\n",
    "            \n",
    "        while True:\n",
    "            try:\n",
    "                self.salary = int(input('What is a daily/hourly salary for standard employee ?'))\n",
    "            except:\n",
    "                print(\"Whoops, this isn't a number\")\n",
    "                continue\n",
    "            else:\n",
    "                print('Ok thanks')\n",
    "                break\n",
    "                \n",
    "        \n",
    "        while True:\n",
    "            try:\n",
    "                self.extra_salary = int(input('How much more earn special employee ?'))\n",
    "            except:\n",
    "                print(\"Whoops, this isn't a number\")\n",
    "                continue\n",
    "            else:\n",
    "                print('Ok thanks')\n",
    "                break\n",
    "           \n",
    "    \n",
    "        self.money_set =  True\n",
    "    \n",
    "    def finance(self):\n",
    "        \n",
    "        if self.money_set and self.salary_type == 'd':\n",
    "            \n",
    "            return(f'total income is {self.days*(self.salary*self.standard_emp + (self.salary + self.extra_salary)*self.special_emp)}')\n",
    "            \n",
    "        elif self.money_set and self.salary_type == 'h':\n",
    "            \n",
    "            return(f'total income is {self.days*8*(self.salary*self.standard_emp + (self.salary + self.extra_salary)*self.special_emp)}')\n",
    "            \n",
    "        else:\n",
    "            \n",
    "            return(\"salaries isn't definied\")\n",
    " \n",
    "    def __str__(self):\n",
    "        return f'Summary: Event location : {self.location}\\nthere will be need {self.standard_emp + self.special_emp} people,{self.finance()}.'\n",
    "\n",
    "    \n",
    "    \n",
    "    def additional(self):\n",
    "        \n",
    "        \n",
    "        while True:\n",
    "            self.acc = input('Is accomodation provided ? y / n ')\n",
    "\n",
    "            if self.acc[0].lower() == 'y' or self.acc[0].lower() == 'n' :\n",
    "                break\n",
    "            else:\n",
    "                print(\"Sorry, please try again.\")\n",
    "                continue\n",
    "                \n",
    "        \n",
    "        while True:\n",
    "            self.meals = input('are meals provided ? y / n ')\n",
    "\n",
    "            if self.meals[0].lower() == 'y' or self.meals[0].lower() == 'n' :\n",
    "                break\n",
    "            else:\n",
    "                print(\"Sorry, please try again.\")\n",
    "                continue      \n",
    "        \n",
    "    "
   ]
  },
  {
   "cell_type": "code",
   "execution_count": 14,
   "metadata": {},
   "outputs": [
    {
     "name": "stdout",
     "output_type": "stream",
     "text": [
      "When it starts?\n",
      "Enter year2019\n",
      "Enter month10\n",
      "Enter day10\n"
     ]
    }
   ],
   "source": [
    "ev1 = Event('test1', 'London', 5,20,10)"
   ]
  },
  {
   "cell_type": "code",
   "execution_count": 15,
   "metadata": {},
   "outputs": [
    {
     "name": "stdout",
     "output_type": "stream",
     "text": [
      "When it starts?\n",
      "Enter year2020\n",
      "Enter month3\n",
      "Enter day3\n"
     ]
    }
   ],
   "source": [
    "ev2 = Event('test2','Warsaw',5,2,1)"
   ]
  },
  {
   "cell_type": "code",
   "execution_count": 16,
   "metadata": {},
   "outputs": [
    {
     "name": "stdout",
     "output_type": "stream",
     "text": [
      "Is salary a daily = d on hourly = h ?d\n",
      "What is a daily/hourly salary for standard employee ?200\n",
      "Ok thanks\n",
      "How much more earn special employee ?50\n",
      "Ok thanks\n"
     ]
    }
   ],
   "source": [
    "ev1.money()"
   ]
  },
  {
   "cell_type": "code",
   "execution_count": 17,
   "metadata": {},
   "outputs": [
    {
     "name": "stdout",
     "output_type": "stream",
     "text": [
      "Summary: Event location : London\n",
      "there will be need 30 people,total income is 32500.\n"
     ]
    }
   ],
   "source": [
    "print(ev1)"
   ]
  },
  {
   "cell_type": "code",
   "execution_count": 18,
   "metadata": {},
   "outputs": [
    {
     "name": "stdout",
     "output_type": "stream",
     "text": [
      "Is accomodation provided ? y / n n\n",
      "are meals provided ? y / n y\n"
     ]
    }
   ],
   "source": [
    "ev1.additional()"
   ]
  },
  {
   "cell_type": "code",
   "execution_count": 19,
   "metadata": {},
   "outputs": [
    {
     "data": {
      "text/plain": [
       "[]"
      ]
     },
     "execution_count": 19,
     "metadata": {},
     "output_type": "execute_result"
    }
   ],
   "source": [
    "ez_events.events"
   ]
  },
  {
   "cell_type": "code",
   "execution_count": null,
   "metadata": {},
   "outputs": [],
   "source": [
    "print(ev2)"
   ]
  },
  {
   "cell_type": "code",
   "execution_count": 21,
   "metadata": {},
   "outputs": [
    {
     "name": "stdout",
     "output_type": "stream",
     "text": [
      "Cant add event with the same name\n"
     ]
    }
   ],
   "source": [
    "ez_events.add_event(ev1)"
   ]
  },
  {
   "cell_type": "code",
   "execution_count": 22,
   "metadata": {},
   "outputs": [],
   "source": [
    "ez_events.add_event(ev2)"
   ]
  },
  {
   "cell_type": "code",
   "execution_count": 25,
   "metadata": {},
   "outputs": [
    {
     "name": "stdout",
     "output_type": "stream",
     "text": [
      "We can handle it\n"
     ]
    }
   ],
   "source": [
    "ez_events.event_handler('test2')"
   ]
  },
  {
   "cell_type": "code",
   "execution_count": null,
   "metadata": {},
   "outputs": [],
   "source": [
    "ez_events.events"
   ]
  },
  {
   "cell_type": "code",
   "execution_count": null,
   "metadata": {},
   "outputs": [],
   "source": [
    "a"
   ]
  },
  {
   "cell_type": "code",
   "execution_count": null,
   "metadata": {},
   "outputs": [],
   "source": [
    "for i in a:\n",
    "    if i.name == 'asd':\n",
    "        ix = a.index(i)\n",
    "        print(ix)"
   ]
  },
  {
   "cell_type": "code",
   "execution_count": null,
   "metadata": {},
   "outputs": [],
   "source": []
  }
 ],
 "metadata": {
  "kernelspec": {
   "display_name": "Python 3",
   "language": "python",
   "name": "python3"
  },
  "language_info": {
   "codemirror_mode": {
    "name": "ipython",
    "version": 3
   },
   "file_extension": ".py",
   "mimetype": "text/x-python",
   "name": "python",
   "nbconvert_exporter": "python",
   "pygments_lexer": "ipython3",
   "version": "3.6.8"
  }
 },
 "nbformat": 4,
 "nbformat_minor": 2
}
