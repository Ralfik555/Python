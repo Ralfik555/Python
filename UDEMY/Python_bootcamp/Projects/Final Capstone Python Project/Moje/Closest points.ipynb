{
 "cells": [
  {
   "cell_type": "code",
   "execution_count": 61,
   "metadata": {},
   "outputs": [],
   "source": [
    "def points():\n",
    "    list_of_points = []\n",
    "    count = 0\n",
    "    n = int(input('How many points ?'))\n",
    "    dim = int(input('Hom many dimension ?'))\n",
    "    while count < n:\n",
    "        print('Now you will give coords for ' + str(count + 1) + ' points')\n",
    "        tmp = []\n",
    "        for i in range(dim):\n",
    "            ele = int(input())\n",
    "            tmp.append(ele)\n",
    "        list_of_points.append(tmp)\n",
    "        count += 1\n",
    "    "
   ]
  },
  {
   "cell_type": "code",
   "execution_count": 62,
   "metadata": {},
   "outputs": [
    {
     "name": "stdout",
     "output_type": "stream",
     "text": [
      "How many points ?3\n",
      "Hom many dimension ?2\n",
      "Now you will give coords for 1 points\n",
      "1\n",
      "2\n",
      "Now you will give coords for 2 points\n",
      "3\n",
      "4\n",
      "Now you will give coords for 3 points\n",
      "6\n",
      "7\n"
     ]
    }
   ],
   "source": [
    "points()"
   ]
  },
  {
   "cell_type": "code",
   "execution_count": 58,
   "metadata": {},
   "outputs": [
    {
     "name": "stdout",
     "output_type": "stream",
     "text": [
      "14\n",
      "[19, 23, 28, 31, 32, 44, 49, 68]\n"
     ]
    }
   ],
   "source": []
  },
  {
   "cell_type": "code",
   "execution_count": 54,
   "metadata": {},
   "outputs": [
    {
     "name": "stdout",
     "output_type": "stream",
     "text": [
      "[5, 25, 29, 85, 89, 145, 42, 20, 4, 16, 37, 58]\n",
      "89\n"
     ]
    },
    {
     "data": {
      "text/plain": [
       "False"
      ]
     },
     "execution_count": 54,
     "metadata": {},
     "output_type": "execute_result"
    }
   ],
   "source": [
    "is_happy_number(12)"
   ]
  },
  {
   "cell_type": "code",
   "execution_count": 9,
   "metadata": {},
   "outputs": [
    {
     "data": {
      "text/plain": [
       "24"
      ]
     },
     "execution_count": 9,
     "metadata": {},
     "output_type": "execute_result"
    }
   ],
   "source": []
  },
  {
   "cell_type": "code",
   "execution_count": 11,
   "metadata": {},
   "outputs": [
    {
     "data": {
      "text/plain": [
       "2"
      ]
     },
     "execution_count": 11,
     "metadata": {},
     "output_type": "execute_result"
    }
   ],
   "source": []
  },
  {
   "cell_type": "code",
   "execution_count": null,
   "metadata": {},
   "outputs": [],
   "source": []
  }
 ],
 "metadata": {
  "kernelspec": {
   "display_name": "Python 3",
   "language": "python",
   "name": "python3"
  },
  "language_info": {
   "codemirror_mode": {
    "name": "ipython",
    "version": 3
   },
   "file_extension": ".py",
   "mimetype": "text/x-python",
   "name": "python",
   "nbconvert_exporter": "python",
   "pygments_lexer": "ipython3",
   "version": "3.6.8"
  }
 },
 "nbformat": 4,
 "nbformat_minor": 2
}
