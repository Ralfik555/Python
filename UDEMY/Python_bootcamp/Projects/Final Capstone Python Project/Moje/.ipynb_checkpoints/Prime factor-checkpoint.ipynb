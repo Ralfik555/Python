{
 "cells": [
  {
   "cell_type": "code",
   "execution_count": null,
   "metadata": {},
   "outputs": [],
   "source": [
    "def prime_fac(n):\n",
    "    l = []\n",
    "    for i in range(2,n+1):\n",
    "        factor = True\n",
    "        for d in range(2,i):\n",
    "            if i%d == 0:\n",
    "                factor = False\n",
    "        if factor == True and n%i == 0:\n",
    "            print(i)\n",
    "            l.append(i)\n",
    "    return l"
   ]
  },
  {
   "cell_type": "code",
   "execution_count": null,
   "metadata": {},
   "outputs": [],
   "source": [
    "prime_fac(12)"
   ]
  },
  {
   "cell_type": "code",
   "execution_count": 1,
   "metadata": {},
   "outputs": [
    {
     "name": "stdout",
     "output_type": "stream",
     "text": [
      "Welcome to the Prime Factorizer.. Enter the numbers in the prompt or enter 'quit' to exit\n",
      ">>>24\n",
      "2*2*2*3\n",
      ">>>quit\n"
     ]
    }
   ],
   "source": [
    "factors = lambda n: [x for x in range(1,n+1) if not n%x]\n",
    "is_prime = lambda n: len(factors(n))==2\n",
    "primefactors = lambda n: list(filter(is_prime ,factors(n)))\n",
    "\n",
    "def primeFactorize(n):\n",
    "\tn = int(n)\n",
    "\tf = primefactors(n)\n",
    "\tif is_prime(n):\n",
    "\t\treturn str(n)\n",
    "\telse:\n",
    "\t\treturn str(f[0])+ \"*\"+primeFactorize(n/f[0])\n",
    "\n",
    "if __name__=='__main__':\n",
    "\tprint (\"Welcome to the Prime Factorizer.. Enter the numbers in the prompt or enter 'quit' to exit\")\n",
    "\tnum=0;\n",
    "\t\n",
    "\twhile True:\n",
    "\t\tif num:\n",
    "\t\t\tprint(primeFactorize(num))\n",
    "\t\tprint(\">>>\",end='')\n",
    "\t\tnum=input()\n",
    "\t\tif num==\"quit\":\n",
    "\t\t\tbreak"
   ]
  },
  {
   "cell_type": "code",
   "execution_count": 2,
   "metadata": {},
   "outputs": [],
   "source": [
    "factors = lambda n: [x for x in range(1,n+1) if not n%x]"
   ]
  },
  {
   "cell_type": "code",
   "execution_count": 3,
   "metadata": {},
   "outputs": [],
   "source": [
    "is_prime = lambda n: len(factors(n))==2"
   ]
  },
  {
   "cell_type": "code",
   "execution_count": 4,
   "metadata": {},
   "outputs": [],
   "source": [
    "primefactors = lambda n: list(filter(is_prime ,factors(n)))"
   ]
  },
  {
   "cell_type": "code",
   "execution_count": null,
   "metadata": {},
   "outputs": [],
   "source": [
    "factors(12)"
   ]
  },
  {
   "cell_type": "code",
   "execution_count": null,
   "metadata": {},
   "outputs": [],
   "source": [
    "is_prime(12)"
   ]
  },
  {
   "cell_type": "code",
   "execution_count": 5,
   "metadata": {},
   "outputs": [
    {
     "data": {
      "text/plain": [
       "[2, 3]"
      ]
     },
     "execution_count": 5,
     "metadata": {},
     "output_type": "execute_result"
    }
   ],
   "source": [
    "primefactors(24)"
   ]
  },
  {
   "cell_type": "code",
   "execution_count": null,
   "metadata": {},
   "outputs": [],
   "source": []
  }
 ],
 "metadata": {
  "kernelspec": {
   "display_name": "Python 3",
   "language": "python",
   "name": "python3"
  },
  "language_info": {
   "codemirror_mode": {
    "name": "ipython",
    "version": 3
   },
   "file_extension": ".py",
   "mimetype": "text/x-python",
   "name": "python",
   "nbconvert_exporter": "python",
   "pygments_lexer": "ipython3",
   "version": "3.6.8"
  }
 },
 "nbformat": 4,
 "nbformat_minor": 2
}
